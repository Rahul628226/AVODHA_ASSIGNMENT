{
 "cells": [
  {
   "cell_type": "markdown",
   "id": "9e4d2085",
   "metadata": {},
   "source": [
    "#                                    ASSIGNMENT-1"
   ]
  },
  {
   "cell_type": "raw",
   "id": "9c3ef162",
   "metadata": {},
   "source": [
    "1)Write multiple programs which illustrates iteration through various data structure which you learned till now"
   ]
  },
  {
   "cell_type": "markdown",
   "id": "f0ec07f6",
   "metadata": {},
   "source": [
    "### list"
   ]
  },
  {
   "cell_type": "code",
   "execution_count": 1,
   "id": "9006d612",
   "metadata": {},
   "outputs": [],
   "source": [
    "my_list=[1,2,3]"
   ]
  },
  {
   "cell_type": "code",
   "execution_count": 2,
   "id": "77d96a33",
   "metadata": {},
   "outputs": [
    {
     "name": "stdout",
     "output_type": "stream",
     "text": [
      "[1, 2, 3]\n"
     ]
    }
   ],
   "source": [
    "print(my_list)"
   ]
  },
  {
   "cell_type": "code",
   "execution_count": 3,
   "id": "c949c560",
   "metadata": {},
   "outputs": [],
   "source": [
    "my_list.append([555,12])"
   ]
  },
  {
   "cell_type": "code",
   "execution_count": 4,
   "id": "1361badd",
   "metadata": {},
   "outputs": [
    {
     "name": "stdout",
     "output_type": "stream",
     "text": [
      "[1, 2, 3, [555, 12]]\n"
     ]
    }
   ],
   "source": [
    "print(my_list)"
   ]
  },
  {
   "cell_type": "code",
   "execution_count": 5,
   "id": "f4ae9b79",
   "metadata": {},
   "outputs": [],
   "source": [
    "my_list.extend([234,'more'])"
   ]
  },
  {
   "cell_type": "code",
   "execution_count": 6,
   "id": "cd3db5de",
   "metadata": {},
   "outputs": [
    {
     "name": "stdout",
     "output_type": "stream",
     "text": [
      "[1, 2, 3, [555, 12], 234, 'more']\n"
     ]
    }
   ],
   "source": [
    "print(my_list)"
   ]
  },
  {
   "cell_type": "code",
   "execution_count": 7,
   "id": "2881f529",
   "metadata": {},
   "outputs": [],
   "source": [
    "my_list.insert(1,'insert')"
   ]
  },
  {
   "cell_type": "code",
   "execution_count": 8,
   "id": "732e6fa7",
   "metadata": {},
   "outputs": [
    {
     "name": "stdout",
     "output_type": "stream",
     "text": [
      "[1, 'insert', 2, 3, [555, 12], 234, 'more']\n"
     ]
    }
   ],
   "source": [
    "print(my_list)"
   ]
  },
  {
   "cell_type": "code",
   "execution_count": 9,
   "id": "6827fb63",
   "metadata": {},
   "outputs": [],
   "source": [
    "del my_list[5]"
   ]
  },
  {
   "cell_type": "code",
   "execution_count": 10,
   "id": "b9ef1266",
   "metadata": {},
   "outputs": [
    {
     "name": "stdout",
     "output_type": "stream",
     "text": [
      "[1, 'insert', 2, 3, [555, 12], 'more']\n"
     ]
    }
   ],
   "source": [
    "print(my_list)"
   ]
  },
  {
   "cell_type": "code",
   "execution_count": 11,
   "id": "dc4b96fb",
   "metadata": {},
   "outputs": [],
   "source": [
    "my_list.remove('insert')"
   ]
  },
  {
   "cell_type": "code",
   "execution_count": 12,
   "id": "ef39bc0b",
   "metadata": {},
   "outputs": [
    {
     "name": "stdout",
     "output_type": "stream",
     "text": [
      "[1, 2, 3, [555, 12], 'more']\n"
     ]
    }
   ],
   "source": [
    "print(my_list)"
   ]
  },
  {
   "cell_type": "code",
   "execution_count": 13,
   "id": "c7145882",
   "metadata": {},
   "outputs": [],
   "source": [
    "my_list.clear()\n"
   ]
  },
  {
   "cell_type": "code",
   "execution_count": 14,
   "id": "0cae4cf1",
   "metadata": {},
   "outputs": [
    {
     "name": "stdout",
     "output_type": "stream",
     "text": [
      "[]\n"
     ]
    }
   ],
   "source": [
    "print(my_list)"
   ]
  },
  {
   "cell_type": "code",
   "execution_count": null,
   "id": "60a058e5",
   "metadata": {},
   "outputs": [],
   "source": []
  }
 ],
 "metadata": {
  "kernelspec": {
   "display_name": "Python 3 (ipykernel)",
   "language": "python",
   "name": "python3"
  },
  "language_info": {
   "codemirror_mode": {
    "name": "ipython",
    "version": 3
   },
   "file_extension": ".py",
   "mimetype": "text/x-python",
   "name": "python",
   "nbconvert_exporter": "python",
   "pygments_lexer": "ipython3",
   "version": "3.9.7"
  }
 },
 "nbformat": 4,
 "nbformat_minor": 5
}
